{
  "nbformat": 4,
  "nbformat_minor": 0,
  "metadata": {
    "colab": {
      "name": "Copy of Pubmed.dcj.ipynb",
      "provenance": []
    },
    "kernelspec": {
      "name": "python3",
      "display_name": "Python 3"
    }
  },
  "cells": [
    {
      "cell_type": "code",
      "metadata": {
        "id": "okcwW2yO4PCr",
        "colab_type": "code",
        "outputId": "f1f5f1c3-46f8-4348-a92f-1e61db0dbaa4",
        "colab": {
          "base_uri": "https://localhost:8080/",
          "height": 221
        }
      },
      "source": [
        "!pip install biopython\n",
        "from Bio import Entrez\n",
        "\n",
        "#!pip install selenium\n",
        "#from selenium import webdriver\n",
        "#from bs4 import BeautifulSoup\n",
        "#import requests\n",
        "#import re\n",
        "#import random\n",
        "#from pymongo import MongoClient\n",
        "#import pandas as pd\n",
        "#import multiprocessing as mp"
      ],
      "execution_count": 0,
      "outputs": [
        {
          "output_type": "stream",
          "text": [
            "Collecting biopython\n",
            "\u001b[?25l  Downloading https://files.pythonhosted.org/packages/ed/77/de3ba8f3d3015455f5df859c082729198ee6732deaeb4b87b9cfbfbaafe3/biopython-1.74-cp36-cp36m-manylinux1_x86_64.whl (2.2MB)\n",
            "\u001b[K     |████████████████████████████████| 2.2MB 4.9MB/s \n",
            "\u001b[?25hRequirement already satisfied: numpy in /usr/local/lib/python3.6/dist-packages (from biopython) (1.16.5)\n",
            "Installing collected packages: biopython\n",
            "Successfully installed biopython-1.74\n",
            "Collecting selenium\n",
            "\u001b[?25l  Downloading https://files.pythonhosted.org/packages/80/d6/4294f0b4bce4de0abf13e17190289f9d0613b0a44e5dd6a7f5ca98459853/selenium-3.141.0-py2.py3-none-any.whl (904kB)\n",
            "\u001b[K     |████████████████████████████████| 911kB 5.1MB/s \n",
            "\u001b[?25hRequirement already satisfied: urllib3 in /usr/local/lib/python3.6/dist-packages (from selenium) (1.24.3)\n",
            "Installing collected packages: selenium\n",
            "Successfully installed selenium-3.141.0\n"
          ],
          "name": "stdout"
        }
      ]
    },
    {
      "cell_type": "code",
      "metadata": {
        "id": "0hKglag7dYFl",
        "colab_type": "code",
        "outputId": "a721b892-792b-4acb-d024-1703343819bb",
        "colab": {
          "base_uri": "https://localhost:8080/",
          "height": 850
        }
      },
      "source": [
        "# you need to install Biopython:\n",
        "# pip install biopython\n",
        "\n",
        "# Ammended coded from:\n",
        "# https://marcobonzanini.wordpress.com/2015/01/12/searching-pubmed-with-python/\n",
        "# dcjohnson emails:\n",
        "#david.johnson@sanger.ac.uk\n",
        "#david.johnson@icr.ac.uk\n",
        "#johnson@icr.ac.uk\n",
        "#davecj23@gmail.com\n",
        "#Although Pubmed no longer attaches emails to all abstract, so cannot search on emails using PIs instead.\n",
        "#Senior Scientific Officer/Higher Scientific officer publications under PI: Morgan GJ\n",
        "from Bio import Entrez\n",
        "\n",
        "def search(query):\n",
        "    Entrez.email = 'david.johnson@icr.ac.uk'\n",
        "    handle = Entrez.esearch(db='pubmed', \n",
        "                            sort='relevance', \n",
        "                            retmax='100',\n",
        "                            retmode='xml', \n",
        "                            term=query)\n",
        "    results = Entrez.read(handle)\n",
        "    return results\n",
        "\n",
        "def fetch_details(id_list):\n",
        "    ids = ','.join(id_list)\n",
        "    Entrez.email = 'david.johnson@icr.ac.uk'\n",
        "    handle = Entrez.efetch(db='pubmed',\n",
        "                           retmode='xml',\n",
        "                           id=ids)\n",
        "    results = Entrez.read(handle)\n",
        "    return results\n",
        "\n",
        "if __name__ == '__main__':\n",
        "    results = search('myeloma + johnson_d + morgan')\n",
        "    id_list = results['IdList']\n",
        "    papers = fetch_details(id_list)\n",
        "    for i, paper in enumerate(papers['PubmedArticle']): print(\"%d) %s\" % (i+1, paper['MedlineCitation']['Article']['ArticleTitle']))"
      ],
      "execution_count": 0,
      "outputs": [
        {
          "output_type": "stream",
          "text": [
            "1) A multiple myeloma classification system that associates normal B-cell subset phenotypes with prognosis.\n",
            "2) Search for rare protein altering variants influencing susceptibility to multiple myeloma.\n",
            "3) Genome-wide association study identifies variation at 6q25.1 associated with survival in multiple myeloma.\n",
            "4) Subclonal <i>TP53</i> copy number is associated with prognosis in multiple myeloma.\n",
            "5) Genetic factors influencing the risk of multiple myeloma bone disease.\n",
            "6) Genetic Predisposition to Multiple Myeloma at 5q15 Is Mediated by an ELL2 Enhancer Polymorphism.\n",
            "7) Genetic factors underlying the risk of thalidomide-related neuropathy in patients with multiple myeloma.\n",
            "8) The 7p15.3 (rs4487645) association for multiple myeloma shows strong allele-specific regulation of the MYC-interacting gene CDCA7L in malignant plasma cells.\n",
            "9) Identification of multiple risk loci and regulatory mechanisms influencing susceptibility to multiple myeloma.\n",
            "10) Neutral tumor evolution in myeloma is associated with poor prognosis.\n",
            "11) Genetic correlation between multiple myeloma and chronic lymphocytic leukaemia provides evidence for shared aetiology.\n",
            "12) Genome-wide association analysis of chronic lymphocytic leukaemia, Hodgkin lymphoma and multiple myeloma identifies pleiotropic risk loci.\n",
            "13) Global methylation analysis identifies prognostically important epigenetically inactivated tumor suppressor genes in multiple myeloma.\n",
            "14) Multiple myeloma risk variant at 7p15.3 creates an IRF4-binding site and interferes with CDCA7L expression.\n",
            "15) APOBEC family mutational signatures are associated with poor prognosis translocations in multiple myeloma.\n",
            "16) Transcriptome-wide association study of multiple myeloma identifies candidate susceptibility genes.\n",
            "17) The Spectrum and Clinical Impact of Epigenetic Modifier Mutations in Myeloma.\n",
            "18) Implementation of genome-wide complex trait analysis to quantify the heritability in multiple myeloma.\n",
            "19) Genome-wide association study identifies multiple susceptibility loci for multiple myeloma.\n",
            "20) Characterization of IGH locus breakpoints in multiple myeloma indicates a subset of translocations appear to occur in pregerminal center B cells.\n",
            "21) Common variation at 3p22.1 and 7p15.3 influences multiple myeloma risk.\n",
            "22) Assessing the effect of obesity-related traits on multiple myeloma using a Mendelian randomisation approach.\n",
            "23) Mutational Spectrum, Copy Number Changes, and Outcome: Results of a Sequencing Study of Patients With Newly Diagnosed Myeloma.\n",
            "24) Deletions of CDKN2C in multiple myeloma: biological and clinical implications.\n",
            "25) Common variation at 3q26.2, 6p21.33, 17p11.2 and 22q13.1 influences multiple myeloma risk.\n",
            "26) Inherited genetic susceptibility to multiple myeloma.\n",
            "27) The CCND1 c.870G>A polymorphism is a risk factor for t(11;14)(q13;q32) multiple myeloma.\n",
            "28) Genetic factors underlying the risk of bortezomib induced peripheral neuropathy in multiple myeloma patients.\n",
            "29) Prediction of outcome in newly diagnosed myeloma: a meta-analysis of the molecular profiles of 1905 trial patients.\n",
            "30) A gene expression based predictor for high risk myeloma treated with intensive therapy and autologous stem cell rescue.\n",
            "31) Intraclonal heterogeneity is a critical early event in the development of myeloma and precedes the development of clinical symptoms.\n",
            "32) Author Correction: Identification of multiple risk loci and regulatory mechanisms influencing susceptibility to multiple myeloma.\n",
            "33) Single-cell genetic analysis reveals the composition of initiating clones and phylogenetic patterns of branching and parallel evolution in myeloma.\n",
            "34) Improved risk stratification in myeloma using a microRNA-based classifier.\n",
            "35) Integration of global SNP-based mapping and expression arrays reveals key regions, mechanisms, and genes important in the pathogenesis of multiple myeloma.\n",
            "36) Gene mapping and expression analysis of 16q loss of heterozygosity identifies WWOX and CYLD as being important in determining clinical outcome in multiple myeloma.\n",
            "37) Genetic associations with thalidomide mediated venous thrombotic events in myeloma identified using targeted genotyping.\n",
            "38) Clonal evolution in myeloma: the impact of maintenance lenalidomide and depth of response on the genetics and sub-clonal structure of relapsed disease in uniformly treated newly diagnosed patients.\n",
            "39) A compendium of myeloma-associated chromosomal copy number abnormalities and their prognostic value.\n",
            "40) Genome-wide association study of immunoglobulin light chain amyloidosis in three patient cohorts: comparison with myeloma.\n",
            "41) Homozygous deletion mapping in myeloma samples identifies genes and an expression signature relevant to pathogenesis and outcome.\n",
            "42) Intraclonal heterogeneity and distinct molecular mechanisms characterize the development of t(4;14) and t(11;14) myeloma.\n",
            "43) XBP1s levels are implicated in the biology and outcome of myeloma mediating different clinical outcomes to thalidomide-based treatments.\n",
            "44) Genomic variation in myeloma: design, content, and initial application of the Bank On A Cure SNP Panel to detect associations with progression-free survival.\n",
            "45) Inherited genetic susceptibility to monoclonal gammopathy of unknown significance.\n",
            "46) Genome-wide association study of clinical parameters in immunoglobulin light chain amyloidosis in three patient cohorts.\n",
            "47) Translocations at 8q24 juxtapose MYC with genes that harbor superenhancers resulting in overexpression and poor prognosis in myeloma patients.\n",
            "48) MMSET is the key molecular target in t(4;14) myeloma.\n",
            "49) The genomic landscape of plasma cells in systemic light chain amyloidosis.\n"
          ],
          "name": "stdout"
        }
      ]
    },
    {
      "cell_type": "code",
      "metadata": {
        "id": "lbZZNlb9pDjQ",
        "colab_type": "code",
        "outputId": "713dba06-14b8-49ec-ae53-d4c0002457d3",
        "colab": {
          "base_uri": "https://localhost:8080/",
          "height": 51
        }
      },
      "source": [
        "#Senior scientific officer publications under PI: Kaiser M\n",
        "\n",
        "from Bio import Entrez\n",
        "\n",
        "def search(query):\n",
        "    Entrez.email = 'david.johnson@icr.ac.uk'\n",
        "    handle = Entrez.esearch(db='pubmed', \n",
        "                            sort='relevance', \n",
        "                            retmax='100',\n",
        "                            retmode='xml', \n",
        "                            term=query)\n",
        "    results = Entrez.read(handle)\n",
        "    return results\n",
        "\n",
        "def fetch_details(id_list):\n",
        "    ids = ','.join(id_list)\n",
        "    Entrez.email = 'david.johnson@icr.ac.uk'\n",
        "    handle = Entrez.efetch(db='pubmed',\n",
        "                           retmode='xml',\n",
        "                           id=ids)\n",
        "    results = Entrez.read(handle)\n",
        "    return results\n",
        "\n",
        "if __name__ == '__main__':\n",
        "    results2 = search('myeloma AND johnson_D AND kaiser NOT morgan')\n",
        "    id_list2 = results2['IdList']\n",
        "    papers2 = fetch_details(id_list2)\n",
        "    for i, paper2 in enumerate(papers2['PubmedArticle']): print(\"%d) %s\" % (i+1, paper2['MedlineCitation']['Article']['ArticleTitle']))"
      ],
      "execution_count": 0,
      "outputs": [
        {
          "output_type": "stream",
          "text": [
            "1) Regions of homozygosity as risk factors for multiple myeloma.\n",
            "2) The coordinated action of VCP/p97 and GCN2 regulates cancer cell metabolism and proteostasis during nutrient limitation.\n"
          ],
          "name": "stdout"
        }
      ]
    },
    {
      "cell_type": "code",
      "metadata": {
        "id": "hXTgupP_l0IS",
        "colab_type": "code",
        "outputId": "20524eab-714c-444a-9182-5060b50b9e96",
        "colab": {
          "base_uri": "https://localhost:8080/",
          "height": 51
        }
      },
      "source": [
        "#Advanced researcher publication under PI: Barrell BG\n",
        "\n",
        "from Bio import Entrez\n",
        "\n",
        "def search(query):\n",
        "    Entrez.email = 'david.johnson@icr.ac.uk'\n",
        "    handle = Entrez.esearch(db='pubmed', \n",
        "                            sort='relevance', \n",
        "                            retmax='100',\n",
        "                            retmode='xml', \n",
        "                            term=query)\n",
        "    results = Entrez.read(handle)\n",
        "    return results\n",
        "\n",
        "def fetch_details(id_list):\n",
        "    ids = ','.join(id_list)\n",
        "    Entrez.email = 'david.johnson@icr.ac.uk'\n",
        "    handle = Entrez.efetch(db='pubmed',\n",
        "                           retmode='xml',\n",
        "                           id=ids)\n",
        "    results = Entrez.read(handle)\n",
        "    return results\n",
        "\n",
        "if __name__ == '__main__':\n",
        "    results2 = search('johnson_D AND Barrell BG')\n",
        "    id_list2 = results2['IdList']\n",
        "    papers2 = fetch_details(id_list2)\n",
        "    for i, paper2 in enumerate(papers2['PubmedArticle']): print(\"%d) %s\" % (i+1, paper2['MedlineCitation']['Article']['ArticleTitle']))"
      ],
      "execution_count": 0,
      "outputs": [
        {
          "output_type": "stream",
          "text": [
            "1) The genome of the African trypanosome Trypanosoma brucei.\n",
            "2) Sequence of Plasmodium falciparum chromosomes 1, 3-9 and 13.\n"
          ],
          "name": "stdout"
        }
      ]
    },
    {
      "cell_type": "code",
      "metadata": {
        "id": "19CINPuxoNhp",
        "colab_type": "code",
        "outputId": "d26126d8-6766-4524-c441-633bf962b64d",
        "colab": {
          "base_uri": "https://localhost:8080/",
          "height": 136
        }
      },
      "source": [
        "#Advanced researcher assistant publication under PI: Soulston JE\n",
        "\n",
        "from Bio import Entrez\n",
        "\n",
        "def search(query):\n",
        "    Entrez.email = 'david.johnson@icr.ac.uk'\n",
        "    handle = Entrez.esearch(db='pubmed', \n",
        "                            sort='relevance', \n",
        "                            retmax='100',\n",
        "                            retmode='xml', \n",
        "                            term=query)\n",
        "    results = Entrez.read(handle)\n",
        "    return results\n",
        "\n",
        "def fetch_details(id_list):\n",
        "    ids = ','.join(id_list)\n",
        "    Entrez.email = 'david.johnson@icr.ac.uk'\n",
        "    handle = Entrez.efetch(db='pubmed',\n",
        "                           retmode='xml',\n",
        "                           id=ids)\n",
        "    results = Entrez.read(handle)\n",
        "    return results\n",
        "\n",
        "if __name__ == '__main__':\n",
        "    results3 = search('johnson_D AND Sulston_J')\n",
        "    id_list3 = results3['IdList']\n",
        "    papers3 = fetch_details(id_list3)\n",
        "    for i, paper3 in enumerate(papers3['PubmedArticle']): print(\"%d) %s\" % (i+1, paper3['MedlineCitation']['Article']['ArticleTitle']))"
      ],
      "execution_count": 0,
      "outputs": [
        {
          "output_type": "stream",
          "text": [
            "1) The DNA sequence and biological annotation of human chromosome 1.\n",
            "2) The DNA sequence of the human X chromosome.\n",
            "3) The DNA sequence and analysis of human chromosome 13.\n",
            "4) DNA sequence and analysis of human chromosome 9.\n",
            "5) Sequence of Plasmodium falciparum chromosomes 1, 3-9 and 13.\n",
            "6) The DNA sequence and comparative analysis of human chromosome 20.\n",
            "7) Initial sequencing and analysis of the human genome.\n"
          ],
          "name": "stdout"
        }
      ]
    }
  ]
}